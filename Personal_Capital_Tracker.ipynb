{
  "nbformat": 4,
  "nbformat_minor": 0,
  "metadata": {
    "colab": {
      "provenance": [],
      "authorship_tag": "ABX9TyMBvbXCpsUGT4r9IOAL50Ry",
      "include_colab_link": true
    },
    "kernelspec": {
      "name": "python3",
      "display_name": "Python 3"
    },
    "language_info": {
      "name": "python"
    }
  },
  "cells": [
    {
      "cell_type": "markdown",
      "metadata": {
        "id": "view-in-github",
        "colab_type": "text"
      },
      "source": [
        "<a href=\"https://colab.research.google.com/github/Anjali9998/IBM-data-analyst-professional/blob/main/Personal_Capital_Tracker.ipynb\" target=\"_parent\"><img src=\"https://colab.research.google.com/assets/colab-badge.svg\" alt=\"Open In Colab\"/></a>"
      ]
    },
    {
      "cell_type": "code",
      "execution_count": null,
      "metadata": {
        "id": "ei3Diw1-Uc4c"
      },
      "outputs": [],
      "source": [
        "import numpy as np # linear algebra\n",
        "import pandas as pd # data processing, CSV file I/O (e.g. pd.read_csv)\n",
        "import matplotlib.pyplot as plt\n",
        "import seaborn as sns\n",
        "\n",
        "from plotly.subplots import make_subplots\n",
        "import plotly.graph_objects as go\n",
        "datos = pd.read_csv('/kaggle/input/personal-finance/personal_transactions.csv')\n",
        "datos.Date = pd.to_datetime(datos.Date)"
      ]
    },
    {
      "cell_type": "code",
      "source": [
        "datos.head()"
      ],
      "metadata": {
        "id": "52IiMqVqUqE1"
      },
      "execution_count": null,
      "outputs": []
    },
    {
      "cell_type": "code",
      "source": [
        "debits = datos[datos[\"Transaction Type\"] == 'debit']"
      ],
      "metadata": {
        "id": "3vmk81KrUwEd"
      },
      "execution_count": null,
      "outputs": []
    },
    {
      "cell_type": "code",
      "source": [
        "debits = datos[datos[\"Transaction Type\"] == 'debit']\n",
        "def count_sum(data ,column: str, plot = \"Pie\"):\n",
        "    by_column = data\\\n",
        "                .groupby(column)\\\n",
        "                .agg({\"Transaction Type\": \"count\", \"Amount\": \"sum\"})\\\n",
        "                .rename(columns={\"Transaction Type\": \"Total\"})\\\n",
        "                .reset_index()\n",
        "    by_column.columns = [column, \"Total\", \"Sum\"]\n",
        "    \n",
        "    labels = by_column[column]\n",
        "\n",
        "    fig = None\n",
        "    \n",
        "    if plot == 'Pie':\n",
        "        fig = make_subplots(1, 2, specs=[[{'type':'domain'}, {'type':'domain'}]],\n",
        "                    subplot_titles=['Sum', 'Total'])\n",
        "        fig.add_trace(\n",
        "            go.Pie(\n",
        "                labels=labels,\n",
        "                values=by_column[\"Sum\"],\n",
        "                name=\"Sum\"\n",
        "            ),\n",
        "        1, 1)\n",
        "        fig.add_trace(\n",
        "            go.Pie(\n",
        "                labels=labels,\n",
        "                values=by_column[\"Total\"],\n",
        "                name=\"Total\"\n",
        "            ),\n",
        "        1, 2)\n",
        "    elif plot == 'Scatter':\n",
        "        fig = make_subplots(1, 2,\n",
        "                    subplot_titles=['Sum', 'Total'])\n",
        "        fig.add_trace(\n",
        "            go.Scatter(\n",
        "                x=labels,\n",
        "                y=by_column[\"Sum\"],\n",
        "                name=\"Sum\"\n",
        "            ),\n",
        "        1, 1)\n",
        "        fig.add_trace(\n",
        "            go.Scatter(\n",
        "                x=labels,\n",
        "                y=by_column[\"Total\"],\n",
        "                name=\"Total\"\n",
        "            ),\n",
        "        1, 2)\n",
        "        \n",
        "\n",
        "    fig.update_layout(title_text=f\"{column} Analysis\")\n",
        "    fig.show()\n",
        "    \n",
        "    return by_column"
      ],
      "metadata": {
        "id": "HStpQGNbU1Gk"
      },
      "execution_count": null,
      "outputs": []
    }
  ]
}